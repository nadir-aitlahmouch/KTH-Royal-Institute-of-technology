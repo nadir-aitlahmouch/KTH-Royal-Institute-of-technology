{
  "nbformat": 4,
  "nbformat_minor": 0,
  "metadata": {
    "colab": {
      "name": "Svm-lab2.ipynb",
      "provenance": [],
      "collapsed_sections": []
    },
    "kernelspec": {
      "name": "python3",
      "display_name": "Python 3"
    }
  },
  "cells": [
    {
      "cell_type": "markdown",
      "metadata": {
        "id": "Qdaiiwc_m-x7"
      },
      "source": [
        "# **SVM Lab**"
      ]
    },
    {
      "cell_type": "code",
      "metadata": {
        "id": "F8rqZTeAyC9P"
      },
      "source": [
        "import random, math\n",
        "import numpy as np \n",
        "from scipy.optimize import minimize\n",
        "import matplotlib.pyplot as plt\n",
        "from google.colab import files"
      ],
      "execution_count": null,
      "outputs": []
    },
    {
      "cell_type": "markdown",
      "metadata": {
        "id": "Zs1kEcWV1GG9"
      },
      "source": [
        "Let's now build a kernel function:\n"
      ]
    },
    {
      "cell_type": "code",
      "metadata": {
        "id": "R_xC71h11KfV"
      },
      "source": [
        "# Linear kernel\n",
        "def kernel(x, y):\n",
        "  return np.dot(x,y)\n",
        "\n",
        "# Polynomial kernel\n",
        "def kernel1(x,y):\n",
        "  return (np.dot(x,y) + 1)**12\n",
        "\n",
        "# RBF kernel\n",
        "def kernel2(x,y):\n",
        "  euclidian_distance = (x[0]-y[0])**2 + (x[1]-y[1])**2\n",
        "  return math.exp(-(euclidian_distance/(2*(0.5**2))))\n",
        "\n"
      ],
      "execution_count": null,
      "outputs": []
    },
    {
      "cell_type": "markdown",
      "metadata": {
        "id": "e69pyP-z3J9R"
      },
      "source": [
        "Let's now build the objective function:"
      ]
    },
    {
      "cell_type": "code",
      "metadata": {
        "id": "bJx67cTZDzhP"
      },
      "source": [
        "#np.random.seed(100)\n",
        "\n",
        "# Data 1\n",
        "classA1 = np.concatenate((np.random.randn(10,2)*0.2+[1.5,0.5], np.random.randn(10,2)*0.2+[-1.5, 0.5]))\n",
        "classB1 = np.random.randn(20,2)*0.2+[0.0,-0.5]\n",
        "\n",
        "# Data 2 \n",
        "classA_2 = np.concatenate((np.random.randn(10,2)*0.2+[1.5,0.5], np.random.randn(10,2)*0.2+[-1.5, 0.5]))\n",
        "classA_1 = np.concatenate((np.random.randn(10,2)*0.2+[-1.5,-0.5], np.random.randn(10,2)*0.2+[1.5, -0.5]))\n",
        "classA_3 = np.concatenate((np.random.randn(10,2)*0.2+[0,-1.5], np.random.randn(10,2)*0.2+[0, 1.5]))\n",
        "classA_4 = np.concatenate((classA_1, classA_2))\n",
        "classA2 = np.concatenate((classA_3, classA_4))\n",
        "classB2 = np.random.randn(20,2)*0.2+[0.0,-0.5]\n",
        "\n",
        "# Data 3\n",
        "classA3 = np.concatenate((np.random.randn(10,2)*0.2+[1.5,0.5], np.random.randn(10,2)*0.2+[0.0, -0.5]))\n",
        "classB3 = np.random.randn(20,2)*0.2+[0.0,-0.5]\n",
        "\n",
        "# Data 4\n",
        "classA4 = np.concatenate((np.random.randn(40, 2) * 0.4 + [2, 2], np.random.randn(5, 2) * 0.4 + [-1, -1]))\n",
        "classB4 = np.concatenate((np.random.randn(40, 2) * 0.4 + [-1, -1], np.random.randn(5, 2) * 0.4 + [2, 2]))\n",
        "\n",
        "# Data 5\n",
        "classA5 = np.append(classA1, [[-4, -1.5]], axis = 0)\n",
        "classB5 = classB4\n",
        "\n",
        "# Data 6\n",
        "classA6 = np.concatenate((np.random.multivariate_normal([-1, 0], [[80, 0], [0, 20]] , 30)  * 0.2 + [1.5, 0.5], np.random.randn(10, 2) * 0.2 + [0.5, 0.5]))\n",
        "classB6 = np.random.multivariate_normal([1, 2], [[80, 0], [0, 30]] , 50) * 0.2 + [-1, 0.5]\n",
        "\n",
        "# Data 7\n",
        "classA7 = np.array([[x + np.random.normal(0, 0.1), [1, -1][random.randint(0, 1)] * math.sqrt(25 - x**2) + np.random.normal(0, 0.1)] for x in np.linspace(-5, 5)])\n",
        "classB7 = np.random.multivariate_normal([0, 0], [[10, 0], [0, 10]] , 50) * 0.2 + [-1, 0.5]\n",
        "\n",
        "data_all = np.concatenate((classA2, classB2))\n",
        "labels_all = np.concatenate((np.ones(classA2.shape[0]), -np.ones(classB2.shape[0])))\n",
        "\n",
        "\n",
        "indices = np.random.permutation(len(data_all))\n",
        "training_idx, test_idx = indices[:int(4*len(indices)/5)], indices[int(4*len(indices)/5):]\n",
        "data = np.array([data_all[i] for i in training_idx])\n",
        "test_data = [data_all[i] for i in test_idx]\n",
        "labels = np.array([labels_all[i] for i in training_idx])\n",
        "test_labels = [labels_all[i] for i in test_idx]\n",
        "\n",
        "N = data.shape[0] \n",
        "\n",
        "permute = list(range(N))\n",
        "random.shuffle(permute)\n",
        "data = data[permute, : ]\n",
        "labels = labels[permute]"
      ],
      "execution_count": null,
      "outputs": []
    },
    {
      "cell_type": "code",
      "metadata": {
        "id": "BIGlyq0q87wy",
        "colab": {
          "base_uri": "https://localhost:8080/",
          "height": 33
        },
        "outputId": "d731eb90-1b2b-4afe-cf4f-0b2a16bb7c81"
      },
      "source": [
        "x = [1,2]\n",
        "P = [[3,5],[4,6]]\n",
        "print(np.dot(x, np.dot(P, x)))\n"
      ],
      "execution_count": null,
      "outputs": [
        {
          "output_type": "stream",
          "text": [
            "45\n"
          ],
          "name": "stdout"
        }
      ]
    },
    {
      "cell_type": "code",
      "metadata": {
        "id": "PkKSO2Co3NWZ"
      },
      "source": [
        "def compute_pMatrix(data, labels):\n",
        "  N = len(data)\n",
        "  matrix_P = [[labels[i]*labels[j]*kernel1(data[i], data[j]) for j in range(N)] for i in range(N)]\n",
        "  P = np.array(matrix_P)\n",
        "  return P\n",
        "\n",
        "P = compute_pMatrix(data, labels)\n",
        "\n",
        "def objective(alpha):\n",
        "  return 1/2*np.dot(alpha, np.dot(P, alpha)) - np.sum(alpha)\n"
      ],
      "execution_count": null,
      "outputs": []
    },
    {
      "cell_type": "markdown",
      "metadata": {
        "id": "dwO5CEtjAH_j"
      },
      "source": [
        "Let's now build zerofun function:"
      ]
    },
    {
      "cell_type": "code",
      "metadata": {
        "id": "HjK-KXSPAS3G"
      },
      "source": [
        "def zerofun(alpha):\n",
        "  return np.dot(alpha, labels)\n"
      ],
      "execution_count": null,
      "outputs": []
    },
    {
      "cell_type": "code",
      "metadata": {
        "id": "bK8EW0FABUYm",
        "colab": {
          "base_uri": "https://localhost:8080/",
          "height": 293
        },
        "outputId": "04bf65a4-5eb4-43f3-b378-a78a5fb3fb86"
      },
      "source": [
        "start = np.zeros(len(data))\n",
        "C = None\n",
        "B = [(0, C) for b in range(N)]\n",
        "constraint = {'type':'eq', 'fun':zerofun}\n",
        "\n",
        "ret = minimize(objective, start, bounds = B, constraints = constraint)\n",
        "alpha = ret['x']\n",
        "print(alpha)\n",
        "\n",
        "# condition check\n",
        "print(sum([labels[i]*alpha[i] for i in range(N)]) <= 1e-5)"
      ],
      "execution_count": null,
      "outputs": [
        {
          "output_type": "stream",
          "text": [
            "[8.91184630e-08 7.90428134e-08 8.71921648e-08 1.13489313e-06\n",
            " 1.02446884e-04 8.96776524e-08 4.56801843e-08 2.05848044e-07\n",
            " 2.05848008e-07 8.08015789e-08 8.26517269e-08 8.54318645e-08\n",
            " 9.02919993e-08 2.05848037e-07 2.05848051e-07 9.01293706e-08\n",
            " 1.80361776e-06 5.28474201e-05 8.83891833e-08 8.70326219e-08\n",
            " 8.98412604e-08 8.61684151e-08 3.41399567e-05 9.04073629e-08\n",
            " 2.05847976e-07 8.00237451e-08 4.31589240e-06 6.61859851e-08\n",
            " 8.24413306e-08 8.71877331e-08 2.05848008e-07 8.11726057e-08\n",
            " 2.05848059e-07 1.18519366e-05 8.08719666e-08 9.01111870e-08\n",
            " 4.00858231e-08 4.81697698e-15 2.05847961e-07 2.05848050e-07\n",
            " 9.02854454e-08 8.55869045e-08 6.11615613e-15 8.99614396e-08\n",
            " 7.50702266e-08 8.31710668e-08 2.05848055e-07 9.06480369e-08\n",
            " 8.66263663e-08 2.05848056e-07 9.02112261e-08 8.87180452e-08\n",
            " 8.99000411e-08 2.05847931e-07 2.05847980e-07 2.05847967e-07\n",
            " 8.89918891e-08 8.55176344e-08 7.07821676e-08 2.05848051e-07\n",
            " 2.05847937e-07 8.79339446e-08 9.01417870e-08 9.04883321e-08]\n",
            "True\n"
          ],
          "name": "stdout"
        }
      ]
    },
    {
      "cell_type": "code",
      "metadata": {
        "id": "KG7UmhUHFKIz"
      },
      "source": [
        "def extract_nonzeros(alpha):\n",
        "  threshold = 1e-5\n",
        "  nonzeros = []\n",
        "  for index in range(N):\n",
        "    if alpha[index] > threshold:\n",
        "      nonzeros.append((alpha[index], data[index], labels[index]))\n",
        "  return nonzeros"
      ],
      "execution_count": null,
      "outputs": []
    },
    {
      "cell_type": "markdown",
      "metadata": {
        "id": "u9-HQDL6I7lJ"
      },
      "source": [
        "Let's compute b:"
      ]
    },
    {
      "cell_type": "code",
      "metadata": {
        "id": "Ra_I6yKiI6w3",
        "colab": {
          "base_uri": "https://localhost:8080/",
          "height": 33
        },
        "outputId": "845041d3-282f-465f-c7fd-8e231dfa0b1d"
      },
      "source": [
        "def compute_b(alpha, nonzeros):\n",
        "  sv = nonzeros[random.randint(0, len(nonzeros)-1)]\n",
        "  b = 0\n",
        "  for i in range(N):\n",
        "    b += alpha[i]*labels[i]*kernel1(sv[1], data[i])\n",
        "  return b - sv[2]\n",
        "\n",
        "nonzeros = extract_nonzeros(alpha)\n",
        "b = compute_b(alpha, nonzeros)\n",
        "print(b)"
      ],
      "execution_count": null,
      "outputs": [
        {
          "output_type": "stream",
          "text": [
            "1.1454571433496956\n"
          ],
          "name": "stdout"
        }
      ]
    },
    {
      "cell_type": "markdown",
      "metadata": {
        "id": "5pYIU13lLQix"
      },
      "source": [
        "Let's define the indicator function:"
      ]
    },
    {
      "cell_type": "code",
      "metadata": {
        "id": "Lrb_3F3tKngq"
      },
      "source": [
        "def ind(s):\n",
        "  v = 0\n",
        "  for t in nonzeros:\n",
        "    v += t[0]*t[2]*kernel1(s, t[1])\n",
        "  \n",
        "  return v - b\n",
        "\n",
        "def classof(s):\n",
        "  if ind(s) > 0:\n",
        "    return 1\n",
        "  return -1\n"
      ],
      "execution_count": null,
      "outputs": []
    },
    {
      "cell_type": "code",
      "metadata": {
        "id": "Ua4UwKSMQLVJ",
        "colab": {
          "base_uri": "https://localhost:8080/",
          "height": 50
        },
        "outputId": "c6facc5f-66af-4020-a017-b338be27e264"
      },
      "source": [
        "s = [1,2]\n",
        "print(ind(s))\n",
        "print(\"Class of s is: \", classof(s))\n"
      ],
      "execution_count": null,
      "outputs": [
        {
          "output_type": "stream",
          "text": [
            "109.27168210477774\n",
            "Class of s is:  1\n"
          ],
          "name": "stdout"
        }
      ]
    },
    {
      "cell_type": "code",
      "metadata": {
        "id": "eoWdUL9vSv68",
        "colab": {
          "base_uri": "https://localhost:8080/",
          "height": 265
        },
        "outputId": "19afc021-664a-454a-d624-501e69de87e2"
      },
      "source": [
        "xgrid = np.linspace(-5,5)\n",
        "ygrid = np.linspace(-4,4)\n",
        "\n",
        "grid = np.array([[ind([x,y]) for x in xgrid] for y in ygrid])\n",
        "\n",
        "plt.plot([p[0] for p in classA2],[p[1] for p in classA2] ,'c.')\n",
        "plt.plot( [p[0] for p in classB2] ,[p[1] for p in classB2] ,'m.')\n",
        "\n",
        "for i,p in enumerate(test_data):\n",
        "  if test_labels[i] == classof(p):\n",
        "    if test_labels[i] == 1:\n",
        "     plt.plot(p[0], p[1], 'b.')\n",
        "    else:\n",
        "     plt.plot(p[0], p[1], 'r.')\n",
        "  else:\n",
        "    if test_labels[i] == 1:\n",
        "      plt.plot(p[0], p[1], 'bx')\n",
        "    else:\n",
        "      plt.plot(p[0], p[1], 'rx')\n",
        "\n",
        "\n",
        "plt.axis('equal') \n",
        "plt.contour(xgrid, ygrid, grid, (-1.0, 0.0, 1.0), colors=('red', 'black', 'blue'), linewidths=(1,3,1))\n",
        "plt.margins(x=0, y=-0.25)\n",
        "plt.savefig(\"datapolandc.png\")\n",
        "files.download(\"datapolandc.png\") \n",
        "plt.show() "
      ],
      "execution_count": null,
      "outputs": [
        {
          "output_type": "display_data",
          "data": {
            "application/javascript": [
              "\n",
              "    async function download(id, filename, size) {\n",
              "      if (!google.colab.kernel.accessAllowed) {\n",
              "        return;\n",
              "      }\n",
              "      const div = document.createElement('div');\n",
              "      const label = document.createElement('label');\n",
              "      label.textContent = `Downloading \"${filename}\": `;\n",
              "      div.appendChild(label);\n",
              "      const progress = document.createElement('progress');\n",
              "      progress.max = size;\n",
              "      div.appendChild(progress);\n",
              "      document.body.appendChild(div);\n",
              "\n",
              "      const buffers = [];\n",
              "      let downloaded = 0;\n",
              "\n",
              "      const channel = await google.colab.kernel.comms.open(id);\n",
              "      // Send a message to notify the kernel that we're ready.\n",
              "      channel.send({})\n",
              "\n",
              "      for await (const message of channel.messages) {\n",
              "        // Send a message to notify the kernel that we're ready.\n",
              "        channel.send({})\n",
              "        if (message.buffers) {\n",
              "          for (const buffer of message.buffers) {\n",
              "            buffers.push(buffer);\n",
              "            downloaded += buffer.byteLength;\n",
              "            progress.value = downloaded;\n",
              "          }\n",
              "        }\n",
              "      }\n",
              "      const blob = new Blob(buffers, {type: 'application/binary'});\n",
              "      const a = document.createElement('a');\n",
              "      a.href = window.URL.createObjectURL(blob);\n",
              "      a.download = filename;\n",
              "      div.appendChild(a);\n",
              "      a.click();\n",
              "      div.remove();\n",
              "    }\n",
              "  "
            ],
            "text/plain": [
              "<IPython.core.display.Javascript object>"
            ]
          },
          "metadata": {
            "tags": []
          }
        },
        {
          "output_type": "display_data",
          "data": {
            "application/javascript": [
              "download(\"download_e20d633e-b6cc-4184-bb09-f18d50a12f87\", \"datapolandc.png\", 14584)"
            ],
            "text/plain": [
              "<IPython.core.display.Javascript object>"
            ]
          },
          "metadata": {
            "tags": []
          }
        },
        {
          "output_type": "display_data",
          "data": {
            "image/png": "[encoded data removed]",
            "text/plain": [
              "<Figure size 432x288 with 1 Axes>"
            ]
          },
          "metadata": {
            "tags": [],
            "needs_background": "light"
          }
        }
      ]
    }
  ]
}